{
  "nbformat": 4,
  "nbformat_minor": 0,
  "metadata": {
    "colab": {
      "provenance": [],
      "toc_visible": true,
      "authorship_tag": "ABX9TyNEKXBbBnGPvoGh1S53dZWE",
      "include_colab_link": true
    },
    "kernelspec": {
      "name": "python3",
      "display_name": "Python 3"
    },
    "language_info": {
      "name": "python"
    }
  },
  "cells": [
    {
      "cell_type": "markdown",
      "metadata": {
        "id": "view-in-github",
        "colab_type": "text"
      },
      "source": [
        "<a href=\"https://colab.research.google.com/github/khanfawaz/MedChat/blob/main/MedChat_RAG.ipynb\" target=\"_parent\"><img src=\"https://colab.research.google.com/assets/colab-badge.svg\" alt=\"Open In Colab\"/></a>"
      ]
    },
    {
      "cell_type": "markdown",
      "source": [
        "# SCOPE OF THE RESEARCH"
      ],
      "metadata": {
        "id": "xnEA0OUADZuj"
      }
    },
    {
      "cell_type": "markdown",
      "source": [
        "## SCOPE:\n",
        "\n",
        "The primary aim of this research is to analyse and assess the performance and effectiveness of an open-source, small-scale LLM as a chatbot application within the medical domain. The study will explore the collaboration between chatbot functionality, open-source platforms, and the utilisation of small-scale LLMs in the medical landscape. This study seeks to determine the Generative AI's accuracy, reliability, and overall utility in providing medical information and support by employing a comprehensive dataset of medical terms and their corresponding explanations. The ultimate goal is to enhance the accessibility and quality of healthcare communication through cost-effective AI-driven solutions.\n",
        "\n",
        "Retrieval Augmented Generation (RAG) is employed to improve the performance of the medical chatbot model. This technique will be used to build the chatbot by retrieving relevant medical information from a knowledge base during the generation process.\n",
        "\n",
        "## TECHNOLOGY STACK:\n",
        "\n",
        "1. Python\n",
        "2. Data Analysis\n",
        "3. Large Language Model (LLM)\n",
        "4. LangChain\n",
        "5. Retrieval Augmented Generation (RAG)\n",
        "6. Streamlit or Gradio\n",
        "7. GitHub\n",
        "8. Amazon Sagemaker\n",
        "9. Google Collaboratory\n",
        "\n",
        "## DATASET USED:\n",
        "\n",
        "https://huggingface.co/datasets/gamino/wiki_medical_terms\n",
        "\n",
        "## DISCLAIMER:\n",
        "\n",
        "This model is intended for the research purposes only and should not be used as a substitute for professional medical advice. Always consult with a qualified healthcare provider for any medical concerns."
      ],
      "metadata": {
        "id": "UoAc5aG7Dja-"
      }
    },
    {
      "cell_type": "code",
      "source": [],
      "metadata": {
        "id": "ummREjAyDhaX"
      },
      "execution_count": null,
      "outputs": []
    }
  ]
}